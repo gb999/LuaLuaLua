{
  "nbformat": 4,
  "nbformat_minor": 0,
  "metadata": {
    "colab": {
      "provenance": [],
      "gpuType": "T4",
      "include_colab_link": true
    },
    "kernelspec": {
      "name": "python3",
      "display_name": "Python 3"
    },
    "language_info": {
      "name": "python"
    },
    "accelerator": "GPU"
  },
  "cells": [
    {
      "cell_type": "markdown",
      "metadata": {
        "id": "view-in-github",
        "colab_type": "text"
      },
      "source": [
        "<a href=\"https://colab.research.google.com/github/gb999/LuaLuaLua/blob/gru-lstm-hyperopti/LuaLuaLua.ipynb\" target=\"_parent\"><img src=\"https://colab.research.google.com/assets/colab-badge.svg\" alt=\"Open In Colab\"/></a>"
      ]
    },
    {
      "cell_type": "markdown",
      "source": [
        "# Getting the data\n",
        "\n",
        "1. To download competition data from Kaggle the rules of the competition have to be accepted [here](https://www.kaggle.com/competitions/nlp-getting-started/data), by joining the competition.\n",
        "\n",
        "2. After that, an API key has to be obtained.\n",
        "Follow these [instructions](https://www.kaggle.com/docs/api) to do so.\n",
        "\n",
        "3. Create a new secret named `kaggle.json` in Google Colab, copy the contents of the downloaded file into the value field. Enable Notebook access, and you are ready to go.\n",
        "\n",
        "\n",
        "\n"
      ],
      "metadata": {
        "id": "zTJrcCsY3KZQ"
      }
    },
    {
      "cell_type": "code",
      "source": [
        "from google.colab import userdata\n",
        "import json, os\n",
        "kaggle_path = '/root/.config/kaggle'\n",
        "kaggle_json = userdata.get('kaggle.json')\n",
        "os.makedirs(kaggle_path, exist_ok=True)\n",
        "\n",
        "with open(kaggle_path + '/kaggle.json', 'w') as f:\n",
        "    f.write(kaggle_json)\n",
        "\n",
        "os.chmod(kaggle_path + '/kaggle.json', 0o600)\n"
      ],
      "metadata": {
        "id": "pKmqDWb_9-sn"
      },
      "execution_count": 4,
      "outputs": []
    },
    {
      "cell_type": "code",
      "execution_count": 5,
      "metadata": {
        "colab": {
          "base_uri": "https://localhost:8080/"
        },
        "id": "cV9NGd3D2-iY",
        "outputId": "0f09b18d-3ee9-429d-9371-553bfd82dc90"
      },
      "outputs": [
        {
          "output_type": "stream",
          "name": "stdout",
          "text": [
            "Archive:  nlp-getting-started.zip\n",
            "  inflating: sample_submission.csv   \n",
            "  inflating: test.csv                \n",
            "  inflating: train.csv               \n"
          ]
        }
      ],
      "source": [
        "!pip install kaggle --quiet\n",
        "!kaggle competitions download -c nlp-getting-started -q\n",
        "!unzip -o nlp-getting-started.zip"
      ]
    },
    {
      "cell_type": "markdown",
      "source": [
        "# Processing the data\n",
        "\n"
      ],
      "metadata": {
        "id": "0ptFnzxwxH9V"
      }
    },
    {
      "cell_type": "code",
      "source": [
        "# Load DataFrames\n",
        "import pandas as pd\n",
        "from collections import Counter\n",
        "import re\n",
        "import matplotlib.pyplot as plt\n",
        "\n",
        "train_df = pd.read_csv('train.csv')\n",
        "test_df = pd.read_csv('test.csv')"
      ],
      "metadata": {
        "id": "OiLWb9HpxNCx"
      },
      "execution_count": 6,
      "outputs": []
    },
    {
      "cell_type": "markdown",
      "source": [
        "## Cleaning the data\n",
        "\n",
        "\n"
      ],
      "metadata": {
        "id": "v6Kf2Iz2wkMp"
      }
    },
    {
      "cell_type": "markdown",
      "source": [
        "\n",
        "Text cleaning is an essential preprocessing step in word vectorization, as it removes noise that can interfere with meaningful analysis. This often includes eliminating stopwords and punctuation, which don't add significant value to word embeddings, and converting text to lowercase to ensure consistency across words. By focusing on essential terms, this cleaning process enhances the quality and accuracy of word vector models.\n",
        "\n",
        "*Stopwords are for example: of, for, with haven't, by...*\n",
        "\n",
        "Stopwords are obtained from the 'nltk' module.\n",
        "\n",
        "### Steps:\n",
        "1. Replace links with the word '[link]'\n",
        "1. Keep only letters and square brackets.\n",
        "1. Remove stopwords\n",
        "\n"
      ],
      "metadata": {
        "id": "DlkLoT3_Au71"
      }
    },
    {
      "cell_type": "code",
      "source": [
        "!pip install nltk --quiet"
      ],
      "metadata": {
        "id": "lSAleCBNjD4Z"
      },
      "execution_count": 7,
      "outputs": []
    },
    {
      "cell_type": "code",
      "source": [
        "import nltk\n",
        "from nltk.corpus import stopwords\n",
        "\n",
        "nltk.download('stopwords')\n",
        "stop_words = set(stopwords.words('english'))\n",
        "print(stop_words)"
      ],
      "metadata": {
        "id": "8fD6dm2W5Cw5",
        "outputId": "1d3ce8da-2faa-411b-c8cc-42e96cf28c2e",
        "colab": {
          "base_uri": "https://localhost:8080/"
        }
      },
      "execution_count": 8,
      "outputs": [
        {
          "output_type": "stream",
          "name": "stdout",
          "text": [
            "{'own', 'further', 'during', 'wouldn', 'before', 'any', 'who', 'against', \"you're\", 'these', 'to', 'yourself', 'in', 'does', 'wasn', \"should've\", \"haven't\", 'some', 'them', 'hasn', 'this', 'through', \"mightn't\", 'where', \"hasn't\", 'down', 'out', 'yours', 'be', 'until', 're', 'had', 'has', 'just', 'd', 'ourselves', 'an', 'ours', 'weren', 'you', 'and', 'are', \"you'll\", \"wouldn't\", 'if', \"that'll\", 'very', \"hadn't\", 'up', 'is', 'hadn', 'or', 'by', 'his', 'no', 'whom', 've', 'doesn', 'mightn', 'couldn', 'they', 'as', 'again', 'themselves', 'shan', 'am', 'here', 'haven', 'at', 'ain', 'did', \"you've\", \"you'd\", 'above', \"weren't\", 'then', 'will', 'because', 'she', 'but', 'her', 'from', \"aren't\", \"it's\", 'was', 't', 'herself', 'should', 'have', 'of', 'over', 'most', 'your', 'those', 'been', 'when', 'mustn', 'yourselves', 'do', 'he', 'each', 'than', 'too', 'we', 'm', 'on', 'it', \"didn't\", 'needn', 'both', 'into', 'that', 'don', 'were', 'now', 'off', 'few', \"shan't\", 'having', 'same', 'what', 'my', 'nor', \"wasn't\", 'the', 'i', \"mustn't\", \"don't\", 'which', 'itself', 'aren', 'doing', 'll', 'so', 'o', \"won't\", 'shouldn', 'there', 'once', 'didn', 'me', 'him', 'between', \"couldn't\", 'only', \"needn't\", 'y', 'can', 'about', \"shouldn't\", 'won', 'himself', 'how', 'our', 'hers', 'being', \"isn't\", 's', 'while', 'under', 'all', 'below', 'isn', 'more', 'after', 'other', 'such', 'not', 'ma', 'myself', 'with', \"doesn't\", 'their', 'its', 'theirs', 'a', 'why', \"she's\", 'for'}\n"
          ]
        },
        {
          "output_type": "stream",
          "name": "stderr",
          "text": [
            "[nltk_data] Downloading package stopwords to /root/nltk_data...\n",
            "[nltk_data]   Unzipping corpora/stopwords.zip.\n"
          ]
        }
      ]
    },
    {
      "cell_type": "code",
      "source": [
        "# Remove or replace links in a string.\n",
        "def remove_links(text, replace=''):\n",
        "  text = re.sub(r'http\\S+', replace, text)\n",
        "  return text\n",
        "\n",
        "def remove_retweets(text):\n",
        "    return re.sub(r'^RT\\s+@\\w+', '', text, flags=re.IGNORECASE)"
      ],
      "metadata": {
        "id": "-c6Y7Mfkw4b9"
      },
      "execution_count": 9,
      "outputs": []
    },
    {
      "cell_type": "code",
      "source": [
        "import re\n",
        "import string\n",
        "\n",
        "# Replaces links and removes retweets and stopwords from a tweet\n",
        "def clean_tweet(tweet, remove_stopwords=True, stop_words = set(), replace_links = ''):\n",
        "  tweet = remove_links(tweet, replace_links)\n",
        "  tweet = remove_retweets(tweet)\n",
        "  words = re.findall(r\"[A-Za-z\\[\\]]+\", tweet.lower())  # Keep letters and square brackets\n",
        "\n",
        "  if remove_stopwords:\n",
        "    words = [word for word in words if word not in stop_words]\n",
        "\n",
        "  return ' '.join(words)\n",
        "\n",
        "def clean_tweets(lines, remove_stopwords=True, stop_words=set()):\n",
        "  cleaned_lines = []\n",
        "  for line in lines:\n",
        "    cleaned_line = clean_tweet(line, remove_stopwords, stop_words)\n",
        "    cleaned_lines.append(cleaned_line)\n",
        "\n",
        "  return cleaned_lines"
      ],
      "metadata": {
        "id": "qEwuCWtl0pyG"
      },
      "execution_count": 10,
      "outputs": []
    },
    {
      "cell_type": "markdown",
      "source": [
        "## Process the whole dataset\n",
        "The Kaggle test data doesn't provide labeled targets in the test data, so we sample 10% of the trainig data for our own testing and visualizing a confusion matrix.\n"
      ],
      "metadata": {
        "id": "rY4qw5504MND"
      }
    },
    {
      "cell_type": "code",
      "source": [
        "train_df['text'] = train_df['text'].apply(lambda t: clean_tweet(t, remove_stopwords=True, stop_words= stop_words, replace_links=\"[link]\"))\n",
        "test_df['text'] = test_df['text'].apply(lambda t: clean_tweet(t, remove_stopwords=True, stop_words= stop_words, replace_links=\"[link]\"))\n",
        "\n",
        "train_df_conf_mx = train_df.sample(frac=0.1)\n",
        "train_df = train_df.loc[~train_df.index.isin(train_df_conf_mx.index)].reset_index(drop=True)\n",
        "\n",
        "print(train_df.head())"
      ],
      "metadata": {
        "id": "1a-YjPIX4L67",
        "outputId": "7159fcc3-716b-47ab-c787-0ffdce0cbb3c",
        "colab": {
          "base_uri": "https://localhost:8080/"
        }
      },
      "execution_count": 11,
      "outputs": [
        {
          "output_type": "stream",
          "name": "stdout",
          "text": [
            "   id keyword location                                               text  \\\n",
            "0   1     NaN      NaN       deeds reason earthquake may allah forgive us   \n",
            "1   4     NaN      NaN              forest fire near la ronge sask canada   \n",
            "2   5     NaN      NaN  residents asked shelter place notified officer...   \n",
            "3   6     NaN      NaN  people receive wildfires evacuation orders cal...   \n",
            "4   7     NaN      NaN  got sent photo ruby alaska smoke wildfires pou...   \n",
            "\n",
            "   target  \n",
            "0       1  \n",
            "1       1  \n",
            "2       1  \n",
            "3       1  \n",
            "4       1  \n"
          ]
        }
      ]
    },
    {
      "cell_type": "markdown",
      "source": [
        "# Visualization\n"
      ],
      "metadata": {
        "id": "9I289WAIDwVo"
      }
    },
    {
      "cell_type": "code",
      "source": [
        "def get_most_common_words(df, text_column, n=40):\n",
        "    # Combine all text into a single string\n",
        "    text = \" \".join(df[text_column].astype(str).tolist())\n",
        "    words = text.split()\n",
        "    word_counts = Counter(words)\n",
        "    return word_counts.most_common(n)\n",
        "\n",
        "def plot_most_common_words(common_words, title):\n",
        "  words, counts = zip(*common_words)\n",
        "  plt.figure(figsize=(10, 5))\n",
        "  plt.bar(words, counts)\n",
        "  plt.title(title)\n",
        "  plt.xlabel(\"Words\")\n",
        "  plt.ylabel(\"Frequency\")\n",
        "  plt.xticks(rotation=45, ha='right')\n",
        "  plt.tight_layout()\n",
        "  plt.show()\n",
        "\n",
        "# Get most common words\n",
        "train_common_words = get_most_common_words(train_df, 'text')\n",
        "test_common_words = get_most_common_words(test_df, 'text')\n",
        "\n",
        "#Show dataframe info\n",
        "train_df.info()\n",
        "print(\"\\n\")\n",
        "test_df.info()\n",
        "\n",
        "# Diagrams\n",
        "plot_most_common_words(train_common_words, \"Most Common Words in Train Data\")\n",
        "plot_most_common_words(test_common_words, \"Most Common Words in Test Data\")"
      ],
      "metadata": {
        "colab": {
          "base_uri": "https://localhost:8080/",
          "height": 1000
        },
        "id": "O7IBEj_gDzON",
        "outputId": "d24257e0-854f-492e-e55c-3ea08cb5c98c"
      },
      "execution_count": 12,
      "outputs": [
        {
          "output_type": "stream",
          "name": "stdout",
          "text": [
            "<class 'pandas.core.frame.DataFrame'>\n",
            "RangeIndex: 6852 entries, 0 to 6851\n",
            "Data columns (total 5 columns):\n",
            " #   Column    Non-Null Count  Dtype \n",
            "---  ------    --------------  ----- \n",
            " 0   id        6852 non-null   int64 \n",
            " 1   keyword   6798 non-null   object\n",
            " 2   location  4576 non-null   object\n",
            " 3   text      6852 non-null   object\n",
            " 4   target    6852 non-null   int64 \n",
            "dtypes: int64(2), object(3)\n",
            "memory usage: 267.8+ KB\n",
            "\n",
            "\n",
            "<class 'pandas.core.frame.DataFrame'>\n",
            "RangeIndex: 3263 entries, 0 to 3262\n",
            "Data columns (total 4 columns):\n",
            " #   Column    Non-Null Count  Dtype \n",
            "---  ------    --------------  ----- \n",
            " 0   id        3263 non-null   int64 \n",
            " 1   keyword   3237 non-null   object\n",
            " 2   location  2158 non-null   object\n",
            " 3   text      3263 non-null   object\n",
            "dtypes: int64(1), object(3)\n",
            "memory usage: 102.1+ KB\n"
          ]
        },
        {
          "output_type": "display_data",
          "data": {
            "text/plain": [
              "<Figure size 1000x500 with 1 Axes>"
            ],
            "image/png": "[encoded data removed]"
          },
          "metadata": {}
        },
        {
          "output_type": "display_data",
          "data": {
            "text/plain": [
              "<Figure size 1000x500 with 1 Axes>"
            ],
            "image/png": "[encoded data removed]"
          },
          "metadata": {}
        }
      ]
    },
    {
      "cell_type": "markdown",
      "source": [
        "# Observations\n",
        "`[link]` became the most common word, so we might as well remove it."
      ],
      "metadata": {
        "id": "KfefpdUv-_IA"
      }
    },
    {
      "cell_type": "code",
      "source": [
        "train_df['text'] = train_df['text'].apply(lambda t: clean_tweet(t, remove_stopwords=True, stop_words= stop_words, replace_links=\"\"))\n",
        "test_df['text'] = test_df['text'].apply(lambda t: clean_tweet(t, remove_stopwords=True, stop_words= stop_words, replace_links=\"\"))\n"
      ],
      "metadata": {
        "id": "CtHY_i8HAbo4"
      },
      "execution_count": 13,
      "outputs": []
    },
    {
      "cell_type": "markdown",
      "source": [
        "# Encoding the data\n",
        "We use the GloVe model for encoding the data."
      ],
      "metadata": {
        "id": "sd5rjlO_BByG"
      }
    },
    {
      "cell_type": "code",
      "source": [
        "!wget -nc -q http://nlp.stanford.edu/data/glove.6B.zip\n",
        "!unzip -n glove.6B.zip"
      ],
      "metadata": {
        "colab": {
          "base_uri": "https://localhost:8080/"
        },
        "id": "tZ3tcrWt52TE",
        "outputId": "15519777-fc86-4846-9b91-219b93cd96d9"
      },
      "execution_count": 14,
      "outputs": [
        {
          "output_type": "stream",
          "name": "stdout",
          "text": [
            "Archive:  glove.6B.zip\n",
            "  inflating: glove.6B.50d.txt        \n",
            "  inflating: glove.6B.100d.txt       \n",
            "  inflating: glove.6B.200d.txt       \n",
            "  inflating: glove.6B.300d.txt       \n"
          ]
        }
      ]
    },
    {
      "cell_type": "markdown",
      "source": [
        "\n",
        "\n",
        "## GloVe\n",
        "GloVe, which stands for Global Vectors for Word Representation, is a popular word embedding technique that captures semantic relationships between words in a vector space. This model is a straightforward word-vectorization model, which uses a 50-dimensional vector for each word. In this model (as in other word-vector models), each word is represented by an\n",
        "n-dimensional vector. The \"distance\" between vectors represents the similarity between words. Distance is calculated using the Pythagorean theorem, as the square root of the sum of squared differences. For instance, the distance between words like \"mug\" and \"cup\" is small, as they are similar and can often be used interchangeably in a sentence. However, words like \"tractor\" and \"skyscraper\" are positioned far apart in the vector space due to their distinct meanings.\n",
        "\n",
        "There are, of course, other word-to-vector models, but we chose GloVe for our initial attempt due to its simplicity and ease of use. We will train our first prediction model using this. Later, to potentially improve accuracy, we may switch to Word2Vec, which can use vectors with dimensions of 100, 200, or even 300 for greater precision.\n",
        "\n",
        "## GloVe as transfer learning\n",
        "When using GloVe for transfer, we initialize the model's embedding layer with GloVe vectors rather than training the word embeddings from random initialization. This way the model has a foundation for understanding the relationships between words, which helps us reduce training time significantly and lets us focus on the classification aspect of the task."
      ],
      "metadata": {
        "id": "IIB8s-jlELIh"
      }
    },
    {
      "cell_type": "code",
      "source": [
        "import numpy as np\n",
        "# Glove_model is a word-vector dictionary\n",
        "def load_glove_model(file_path):\n",
        "  glove_model = {}\n",
        "  with open(file_path, 'r', encoding='utf-8') as f:\n",
        "    # assign a vector to each word\n",
        "    for line in f:\n",
        "      values = line.split(' ')\n",
        "      word = values[0]\n",
        "      vector = np.asarray(values[1:], dtype='float32')\n",
        "      glove_model[word] = vector\n",
        "  return glove_model"
      ],
      "metadata": {
        "id": "GpFwmNsX1n2E"
      },
      "execution_count": 15,
      "outputs": []
    },
    {
      "cell_type": "code",
      "source": [
        "glove_path = 'glove.6B.100d.txt'\n",
        "glove_model = load_glove_model(glove_path)\n",
        "\n",
        "# Get vector for word 'python'\n",
        "print(f\"Here's the word python in vector representation:\\n {glove_model['python']}\")\n",
        "print(f\"length: {len(glove_model['python'])}\")"
      ],
      "metadata": {
        "id": "s6MwLzLfB4i0",
        "outputId": "67d04ebd-3a37-4ff0-a7df-fab0e0d1781b",
        "colab": {
          "base_uri": "https://localhost:8080/"
        }
      },
      "execution_count": 16,
      "outputs": [
        {
          "output_type": "stream",
          "name": "stdout",
          "text": [
            "Here's the word python in vector representation:\n",
            " [ 0.24934    0.68318   -0.044711  -1.3842    -0.0073079  0.651\n",
            " -0.33958   -0.19785   -0.33925    0.26691   -0.033062   0.15915\n",
            "  0.89547    0.53999   -0.55817    0.46245    0.36722    0.1889\n",
            "  0.83189    0.81421   -0.11835   -0.53463    0.24158   -0.038864\n",
            "  1.1907     0.79353   -0.12308    0.6642    -0.77619   -0.45713\n",
            " -1.054     -0.20557   -0.13296    0.12239    0.88458    1.024\n",
            "  0.32288    0.82105   -0.069367   0.024211  -0.51418    0.8727\n",
            "  0.25759    0.91526   -0.64221    0.041159  -0.60208    0.54631\n",
            "  0.66076    0.19796   -1.1393     0.79514    0.45966   -0.18463\n",
            " -0.64131   -0.24929   -0.40194   -0.50786    0.80579    0.53365\n",
            "  0.52732    0.39247   -0.29884    0.009585   0.99953   -0.061279\n",
            "  0.71936    0.32901   -0.052772   0.67135   -0.80251   -0.25789\n",
            "  0.49615    0.48081   -0.68403   -0.012239   0.048201   0.29461\n",
            "  0.20614    0.33556   -0.64167   -0.64708    0.13377   -0.12574\n",
            " -0.46382    1.3878     0.95636   -0.067869  -0.0017411  0.52965\n",
            "  0.45668    0.61041   -0.11514    0.42627    0.17342   -0.7995\n",
            " -0.24502   -0.60886   -0.38469   -0.4797   ]\n",
            "length: 100\n"
          ]
        }
      ]
    },
    {
      "cell_type": "markdown",
      "source": [
        "# Building the model\n",
        "\n",
        "Below the data is prepared for the training:\n",
        "- We chose a vocabulary size of 20000, it represents the 20000 most frequent words in the dataset, this size should be enough for a small dataset like this.\n",
        "- The tweets are tokenized into words\n",
        "\n",
        "The distribution of sequence lengths is plotted, so we can choose an adequate maximum length.\n",
        "\n",
        "\n"
      ],
      "metadata": {
        "id": "MN2Elc2Aiq5L"
      }
    },
    {
      "cell_type": "code",
      "source": [
        "from tensorflow.keras.preprocessing.text import Tokenizer\n",
        "from tensorflow.keras.preprocessing.sequence import pad_sequences\n",
        "from tensorflow.keras.utils import to_categorical\n",
        "\n",
        "# Define parameters\n",
        "vocab_size = 20000 # This is the number of unique words in the dataset, which the model will consider\n",
        "embedding_dim = 100  # Dimension of GloVe embeddings\n",
        "oov_token = \"[OOV]\"  # Token for out-of-vocabulary words\n",
        "\n",
        "# Tokenize the data\n",
        "tokenizer = Tokenizer(num_words=vocab_size, oov_token=oov_token)\n",
        "tokenizer.fit_on_texts(train_df['text'])\n",
        "\n",
        "# Convert text to sequences\n",
        "train_sequences = tokenizer.texts_to_sequences(train_df['text'])\n",
        "test_sequences = tokenizer.texts_to_sequences(test_df['text'])\n",
        "train_df_conf_mx_sequences = tokenizer.texts_to_sequences(train_df_conf_mx['text'])\n",
        "\n",
        "lengths = [len(seq) for seq in train_sequences]\n",
        "plt.hist(lengths, bins=50)\n",
        "plt.xlabel('Sequence Length')\n",
        "plt.ylabel('Frequency')\n",
        "plt.title('Distribution of Sequence Lengths')\n",
        "plt.show()\n"
      ],
      "metadata": {
        "id": "4pvJOaFjk_W5",
        "outputId": "9c87e7fc-2cf1-404c-c9d4-65f65ab30224",
        "colab": {
          "base_uri": "https://localhost:8080/",
          "height": 472
        }
      },
      "execution_count": 17,
      "outputs": [
        {
          "output_type": "display_data",
          "data": {
            "text/plain": [
              "<Figure size 640x480 with 1 Axes>"
            ],
            "image/png": "[encoded data removed]"
          },
          "metadata": {}
        }
      ]
    },
    {
      "cell_type": "code",
      "source": [
        "max_length = int(np.percentile(lengths, 99))  # Max number of words in a sequence\n",
        "print(max_length)"
      ],
      "metadata": {
        "id": "w5aInA-Cb-HA",
        "outputId": "4c6714ac-df6a-4058-d1e1-2a7039d763b5",
        "colab": {
          "base_uri": "https://localhost:8080/"
        }
      },
      "execution_count": 18,
      "outputs": [
        {
          "output_type": "stream",
          "name": "stdout",
          "text": [
            "17\n"
          ]
        }
      ]
    },
    {
      "cell_type": "markdown",
      "source": [
        "99% of sequences is 17 words or less in length, so 17 words should be a good choice as a maximum sequence length.\n",
        "\n",
        "The shorter sequences are padded and the longer ones are truncated so every sequence is the same length."
      ],
      "metadata": {
        "id": "5XfI1Sl9b87z"
      }
    },
    {
      "cell_type": "code",
      "source": [
        "train_padded = pad_sequences(train_sequences, maxlen=max_length, padding='post', truncating='post')\n",
        "test_padded = pad_sequences(test_sequences, maxlen=max_length, padding='post', truncating='post')\n",
        "train_df_conf_mx_padded = pad_sequences(train_df_conf_mx_sequences, maxlen = max_length, padding = 'post', truncating='post')"
      ],
      "metadata": {
        "id": "L5t0njFRa8NJ"
      },
      "execution_count": 19,
      "outputs": []
    },
    {
      "cell_type": "markdown",
      "source": [
        "A mapping of the 20000 most common word indices to word vectors is created in a matrix form. This will be passed to the embedding layer."
      ],
      "metadata": {
        "id": "Z8PD85C_c8NU"
      }
    },
    {
      "cell_type": "code",
      "source": [
        "# Create embedding matrix\n",
        "word_index = tokenizer.word_index\n",
        "embedding_matrix = np.zeros((vocab_size, embedding_dim))\n",
        "\n",
        "for word, i in word_index.items():\n",
        "    if i < vocab_size:\n",
        "        embedding_vector = glove_model.get(word)\n",
        "        if embedding_vector is not None:\n",
        "            embedding_matrix[i] = embedding_vector\n",
        "\n",
        "train_labels = train_df['target'].values"
      ],
      "metadata": {
        "id": "UhPrnfDUc8jV"
      },
      "execution_count": 20,
      "outputs": []
    },
    {
      "cell_type": "markdown",
      "source": [
        "## The model\n",
        "This model uses an embedding layer with GloVe loaded. The Bidirectional LSTM cells are for capturing context in the tweets. A 50% droput layer is used to reduce overfitting. The output is a number from 0 to 1, above 0.5 we interpret the predicition as a 'disaster', below as a 'non-disaster'."
      ],
      "metadata": {
        "id": "HZhZ7PijeYhg"
      }
    },
    {
      "cell_type": "code",
      "source": [
        "!pip install keras-tuner --quiet"
      ],
      "metadata": {
        "id": "xnxITOG8ZnnU"
      },
      "execution_count": 21,
      "outputs": []
    },
    {
      "cell_type": "code",
      "source": [
        "from tensorflow import keras"
      ],
      "metadata": {
        "id": "qIUz5DDczYxO"
      },
      "execution_count": 3,
      "outputs": []
    },
    {
      "cell_type": "code",
      "source": [
        "from kerastuner.tuners import BayesianOptimization\n",
        "from tensorflow.keras.optimizers import Adam\n",
        "from tensorflow.keras.layers import Embedding, LSTM, GRU, Bidirectional, GlobalMaxPooling1D, Dense, Dropout, Input, concatenate\n",
        "from tensorflow.keras.regularizers import l2\n",
        "from tensorflow.keras.models import Model\n",
        "from tensorflow.keras.metrics import Precision, Recall\n",
        "from tensorflow.keras.callbacks import EarlyStopping, ModelCheckpoint, ReduceLROnPlateau\n",
        "from kerastuner import HyperParameters\n",
        "\n",
        "def build_stacked_model(hp, vocab_size, embedding_dim, embedding_matrix, input_length):\n",
        "    input_layer = Input(shape=(input_length,))\n",
        "\n",
        "    embedding_layer = Embedding(input_dim=vocab_size,\n",
        "                                output_dim=embedding_dim,\n",
        "                                weights=[embedding_matrix],\n",
        "                                trainable=False)(input_layer)\n",
        "\n",
        "    # Hyperparameter tuning for LSTM\n",
        "    lstm_units = hp.Int('lstm_units', min_value=64, max_value=256, step=64)\n",
        "    lstm_dropout = hp.Float('lstm_dropout', min_value=0.1, max_value=0.7, step=0.2)\n",
        "    x_lstm = Bidirectional(LSTM(units=lstm_units, return_sequences=True,\n",
        "                                dropout=lstm_dropout, recurrent_dropout=lstm_dropout,\n",
        "                                kernel_regularizer=l2(1e-4)))(embedding_layer)\n",
        "    x_lstm = GlobalMaxPooling1D()(x_lstm)\n",
        "\n",
        "    # Hyperparameter tuning for GRU\n",
        "    gru_units = hp.Int('gru_units', min_value=64, max_value=256, step=64)\n",
        "    gru_dropout = hp.Float('gru_dropout', min_value=0.1, max_value=0.7, step=0.2)\n",
        "    x_gru = Bidirectional(GRU(units=gru_units, return_sequences=True,\n",
        "                              dropout=gru_dropout, recurrent_dropout=gru_dropout,\n",
        "                              kernel_regularizer=l2(1e-4)))(embedding_layer)\n",
        "    x_gru = GlobalMaxPooling1D()(x_gru)\n",
        "\n",
        "    combined = concatenate([x_lstm, x_gru])\n",
        "\n",
        "    # Fully connected layer\n",
        "    dense_units = hp.Int('dense_units', min_value=32, max_value=128, step=64)\n",
        "    x = Dense(dense_units, activation='relu', kernel_regularizer=l2(1e-4))(combined)\n",
        "    x = Dropout(hp.Float('dense_dropout', min_value=0.3, max_value=0.6, step=0.1))(x)\n",
        "\n",
        "    # Output layer\n",
        "    output_layer = Dense(1, activation='sigmoid', kernel_regularizer=l2(1e-4))(x)\n",
        "\n",
        "    model = Model(inputs=input_layer, outputs=output_layer)\n",
        "\n",
        "    learning_rate = hp.Float('learning_rate', min_value=1e-4, max_value=1e-2, sampling='log')\n",
        "    model.compile(optimizer=Adam(learning_rate=learning_rate),\n",
        "                  loss='binary_crossentropy',\n",
        "                  metrics=['accuracy', Precision(name='precision'), Recall(name='recall')])\n",
        "    return model\n",
        "\n",
        "# Set up the tuner\n",
        "hp = HyperParameters()\n",
        "bayesian_opt_tuner = BayesianOptimization(\n",
        "    lambda hp: build_stacked_model(hp, vocab_size, embedding_dim, embedding_matrix, train_padded.shape[1]),\n",
        "    objective='val_loss',\n",
        "    max_trials=20,\n",
        "    directory='tuner_dir',\n",
        "    project_name='stacked_lstm_gru_hyperopt'\n",
        ")\n",
        "\n",
        "# Define callbacks\n",
        "early_stopping = EarlyStopping(monitor='val_loss', patience=3, restore_best_weights=True)\n",
        "checkpoint_path = 'best_stacked_model_tuned.keras'\n",
        "model_checkpoint = ModelCheckpoint(filepath=checkpoint_path, monitor='val_loss', save_best_only=True)\n",
        "reduce_lr = ReduceLROnPlateau(monitor='val_loss', factor=0.2, patience=2, min_lr=1e-6)\n",
        "\n",
        "# Run hyperparameter search\n",
        "bayesian_opt_tuner.search(\n",
        "    train_padded,\n",
        "    train_labels,\n",
        "    validation_split=0.2,\n",
        "    epochs=15,\n",
        "    batch_size=32,\n",
        "    callbacks=[early_stopping, model_checkpoint, reduce_lr]\n",
        ")\n",
        "\n",
        "# Get the best hyperparameters and build the best model\n",
        "best_hps = bayesian_opt_tuner.get_best_hyperparameters(num_trials=1)[0]\n",
        "best_model = build_stacked_model(best_hps, vocab_size, embedding_dim, embedding_matrix, train_padded.shape[1])\n",
        "\n",
        "# Summary of the best model\n",
        "best_model.summary()\n"
      ],
      "metadata": {
        "colab": {
          "base_uri": "https://localhost:8080/",
          "height": 401
        },
        "id": "4Idf-9CHi29F",
        "outputId": "e3358c45-fa97-4dd1-dbf4-7433621cedb4"
      },
      "execution_count": 1,
      "outputs": [
        {
          "output_type": "error",
          "ename": "ModuleNotFoundError",
          "evalue": "No module named 'kerastuner'",
          "traceback": [
            "\u001b[0;31m---------------------------------------------------------------------------\u001b[0m",
            "\u001b[0;31mModuleNotFoundError\u001b[0m                       Traceback (most recent call last)",
            "\u001b[0;32m<ipython-input-1-5a859a6ea398>\u001b[0m in \u001b[0;36m<cell line: 1>\u001b[0;34m()\u001b[0m\n\u001b[0;32m----> 1\u001b[0;31m \u001b[0;32mfrom\u001b[0m \u001b[0mkerastuner\u001b[0m\u001b[0;34m.\u001b[0m\u001b[0mtuners\u001b[0m \u001b[0;32mimport\u001b[0m \u001b[0mBayesianOptimization\u001b[0m\u001b[0;34m\u001b[0m\u001b[0;34m\u001b[0m\u001b[0m\n\u001b[0m\u001b[1;32m      2\u001b[0m \u001b[0;32mfrom\u001b[0m \u001b[0mtensorflow\u001b[0m\u001b[0;34m.\u001b[0m\u001b[0mkeras\u001b[0m\u001b[0;34m.\u001b[0m\u001b[0moptimizers\u001b[0m \u001b[0;32mimport\u001b[0m \u001b[0mAdam\u001b[0m\u001b[0;34m\u001b[0m\u001b[0;34m\u001b[0m\u001b[0m\n\u001b[1;32m      3\u001b[0m \u001b[0;32mfrom\u001b[0m \u001b[0mtensorflow\u001b[0m\u001b[0;34m.\u001b[0m\u001b[0mkeras\u001b[0m\u001b[0;34m.\u001b[0m\u001b[0mlayers\u001b[0m \u001b[0;32mimport\u001b[0m \u001b[0mEmbedding\u001b[0m\u001b[0;34m,\u001b[0m \u001b[0mLSTM\u001b[0m\u001b[0;34m,\u001b[0m \u001b[0mGRU\u001b[0m\u001b[0;34m,\u001b[0m \u001b[0mBidirectional\u001b[0m\u001b[0;34m,\u001b[0m \u001b[0mGlobalMaxPooling1D\u001b[0m\u001b[0;34m,\u001b[0m \u001b[0mDense\u001b[0m\u001b[0;34m,\u001b[0m \u001b[0mDropout\u001b[0m\u001b[0;34m,\u001b[0m \u001b[0mInput\u001b[0m\u001b[0;34m,\u001b[0m \u001b[0mconcatenate\u001b[0m\u001b[0;34m\u001b[0m\u001b[0;34m\u001b[0m\u001b[0m\n\u001b[1;32m      4\u001b[0m \u001b[0;32mfrom\u001b[0m \u001b[0mtensorflow\u001b[0m\u001b[0;34m.\u001b[0m\u001b[0mkeras\u001b[0m\u001b[0;34m.\u001b[0m\u001b[0mregularizers\u001b[0m \u001b[0;32mimport\u001b[0m \u001b[0ml2\u001b[0m\u001b[0;34m\u001b[0m\u001b[0;34m\u001b[0m\u001b[0m\n\u001b[1;32m      5\u001b[0m \u001b[0;32mfrom\u001b[0m \u001b[0mtensorflow\u001b[0m\u001b[0;34m.\u001b[0m\u001b[0mkeras\u001b[0m\u001b[0;34m.\u001b[0m\u001b[0mmodels\u001b[0m \u001b[0;32mimport\u001b[0m \u001b[0mModel\u001b[0m\u001b[0;34m\u001b[0m\u001b[0;34m\u001b[0m\u001b[0m\n",
            "\u001b[0;31mModuleNotFoundError\u001b[0m: No module named 'kerastuner'",
            "",
            "\u001b[0;31m---------------------------------------------------------------------------\u001b[0;32m\nNOTE: If your import is failing due to a missing package, you can\nmanually install dependencies using either !pip or !apt.\n\nTo view examples of installing some common dependencies, click the\n\"Open Examples\" button below.\n\u001b[0;31m---------------------------------------------------------------------------\u001b[0m\n"
          ],
          "errorDetails": {
            "actions": [
              {
                "action": "open_url",
                "actionText": "Open Examples",
                "url": "/notebooks/snippets/importing_libraries.ipynb"
              }
            ]
          }
        }
      ]
    },
    {
      "cell_type": "code",
      "source": [
        "from tensorflow.keras.models import load_model\n",
        "# Load the best model after training\n",
        "model = load_model('best_stacked_model.keras', custom_objects={\"precision\": precision_metric, \"recall\": recall_metric})\n",
        "\n",
        "# Accessing metrics properly\n",
        "precision = history_stacked.history['precision']\n",
        "recall = history_stacked.history['recall']\n",
        "accuracy = history_stacked.history['accuracy']\n"
      ],
      "metadata": {
        "id": "Mi5rS630-K1_"
      },
      "execution_count": null,
      "outputs": []
    },
    {
      "cell_type": "markdown",
      "source": [
        "## Evaluation\n",
        "Below we observe the performance of the model from multiple aspects."
      ],
      "metadata": {
        "id": "WVqUUIXewrRq"
      }
    },
    {
      "cell_type": "markdown",
      "source": [
        "### Predictions\n",
        "Let's see some example predictions"
      ],
      "metadata": {
        "id": "zxR3jSm2mAbH"
      }
    },
    {
      "cell_type": "code",
      "source": [
        "# Predict on test data\n",
        "test_predictions = model.predict(test_padded)\n",
        "\n",
        "# Convert probabilities to binary predictions\n",
        "test_df['predicted_target'] = (test_predictions > 0.5).astype(int)\n",
        "\n",
        "# Map predictions to human-readable labels\n",
        "label_mapping = {0: \"Not Disaster\", 1: \"Disaster\"}\n",
        "test_df['predicted_label'] = test_df['predicted_target'].map(label_mapping)\n",
        "\n",
        "# Display input text and predictions\n",
        "readable_predictions = test_df[['id', 'text', 'predicted_label']]\n",
        "\n",
        "# Show a few examples\n",
        "print(readable_predictions.head(20))\n",
        "\n",
        "# Save to a CSV for further review\n",
        "readable_predictions.to_csv('predictions_readable.csv', index=False)\n",
        "\n"
      ],
      "metadata": {
        "id": "EhGgjEZtkZ3Q"
      },
      "execution_count": null,
      "outputs": []
    },
    {
      "cell_type": "markdown",
      "source": [
        "### Precision\n"
      ],
      "metadata": {
        "id": "ToNPMEcqmEga"
      }
    },
    {
      "cell_type": "code",
      "source": [
        "import matplotlib.pyplot as plt"
      ],
      "metadata": {
        "id": "tuvIqAgXwq_-"
      },
      "execution_count": null,
      "outputs": []
    },
    {
      "cell_type": "code",
      "source": [
        "history_stage2 = history_stacked\n",
        "precision = history_stage2.history['precision']\n",
        "val_precision = history_stage2.history['val_precision']"
      ],
      "metadata": {
        "id": "C0JAIg6fwsGd"
      },
      "execution_count": null,
      "outputs": []
    },
    {
      "cell_type": "code",
      "source": [
        "plt.plot(precision, label='Training Precision')\n",
        "plt.plot(val_precision, label='Validation Precision')\n",
        "plt.title('Model Precision')\n",
        "plt.ylabel('Precision')\n",
        "plt.xlabel('Epoch')\n",
        "plt.legend(loc='upper left')\n",
        "plt.show()"
      ],
      "metadata": {
        "id": "0y5X06hfw7FZ"
      },
      "execution_count": null,
      "outputs": []
    },
    {
      "cell_type": "code",
      "source": [
        "training_loss = history_stage2.history['loss']\n",
        "validation_loss = history_stage2.history['val_loss']\n",
        "\n",
        "epochs = range(1, len(training_loss) + 1)  # Epochs start from 1\n",
        "\n",
        "plt.plot(epochs, training_loss, label='Training Loss')\n",
        "plt.plot(epochs, validation_loss, label='Validation Loss')\n",
        "\n",
        "plt.title('Training and Validation Loss')\n",
        "plt.xlabel('Epochs')\n",
        "plt.ylabel('Loss')\n",
        "plt.legend()\n",
        "\n",
        "plt.show()"
      ],
      "metadata": {
        "id": "_IekHMyy1BhJ"
      },
      "execution_count": null,
      "outputs": []
    },
    {
      "cell_type": "markdown",
      "source": [
        "### Accuracy"
      ],
      "metadata": {
        "id": "w8-ag63mmpyU"
      }
    },
    {
      "cell_type": "code",
      "source": [
        "training_accuracy = history_stage2.history['accuracy']\n",
        "validation_accuracy = history_stage2.history['val_accuracy']\n",
        "\n",
        "epochs = range(1, len(training_accuracy) + 1)  # Epochs start from 1\n",
        "\n",
        "plt.plot(epochs, training_accuracy, label='Training Accuracy')\n",
        "plt.plot(epochs, validation_accuracy, label='Validation Accuracy')\n",
        "\n",
        "plt.title('Training and Validation Accuracy')\n",
        "plt.xlabel('Epochs')\n",
        "plt.ylabel('Accuracy')\n",
        "plt.legend()\n",
        "\n",
        "plt.show()"
      ],
      "metadata": {
        "id": "o_mhQojX131E"
      },
      "execution_count": null,
      "outputs": []
    },
    {
      "cell_type": "markdown",
      "source": [
        "### Confusion matrix\n",
        "A confusion matrix provides a detailed breakdown of a classification model's performance, showing correct and incorrect predictions for each class. It helps identify specific misclassification patterns, such as whether the model is biased toward a certain class. Additionally, it is essential for calculating key metrics like precision, recall, and F1-score, which give deeper insights than accuracy alone."
      ],
      "metadata": {
        "id": "t5rNoizHVnFy"
      }
    },
    {
      "cell_type": "code",
      "source": [
        "import matplotlib.pyplot as plt\n",
        "import numpy\n",
        "from sklearn import metrics\n",
        "\n",
        "predictions_for_conf_mx = model.predict(train_df_conf_mx_padded)\n",
        "predictions_for_conf_mx = (predictions_for_conf_mx > 0.5).astype(int)\n",
        "\n",
        "actual = train_df_conf_mx['target']\n",
        "predicted = predictions_for_conf_mx\n",
        "\n",
        "confusion_matrix = metrics.confusion_matrix(actual, predicted)\n",
        "\n",
        "cm_display = metrics.ConfusionMatrixDisplay(confusion_matrix = confusion_matrix, display_labels = [0, 1])\n",
        "\n",
        "cm_display.plot()\n",
        "plt.show()"
      ],
      "metadata": {
        "id": "6RrhNM8GRef2"
      },
      "execution_count": null,
      "outputs": []
    },
    {
      "cell_type": "markdown",
      "source": [
        "## Experiments with Dropout and Activation Functions\n",
        "- adjusting dropout to 50% from 70% didn't significantly improve the model\n",
        "- changing activation to relu from sigmoid didn't make a noticable difference\n",
        "-"
      ],
      "metadata": {
        "id": "Zccji7OWniZ7"
      }
    }
  ]
}