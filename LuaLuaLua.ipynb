{
  "nbformat": 4,
  "nbformat_minor": 0,
  "metadata": {
    "colab": {
      "provenance": [],
      "authorship_tag": "ABX9TyOVGZayMN0HMLyAONiCSyS2",
      "include_colab_link": true
    },
    "kernelspec": {
      "name": "python3",
      "display_name": "Python 3"
    },
    "language_info": {
      "name": "python"
    }
  },
  "cells": [
    {
      "cell_type": "markdown",
      "metadata": {
        "id": "view-in-github",
        "colab_type": "text"
      },
      "source": [
        "<a href=\"https://colab.research.google.com/github/gb999/LuaLuaLua/blob/getting-data/LuaLuaLua.ipynb\" target=\"_parent\"><img src=\"https://colab.research.google.com/assets/colab-badge.svg\" alt=\"Open In Colab\"/></a>"
      ]
    },
    {
      "cell_type": "markdown",
      "source": [
        "# Getting the data\n",
        "\n",
        "To download competition data from Kaggle the rules of the competition have to be accepted [here](https://www.kaggle.com/competitions/nlp-getting-started/data), by joining the competition.\n",
        "\n",
        "After that, an API key has to be obtained.\n",
        "Follow these [instructions](https://www.kaggle.com/docs/api) to do so.\n",
        "\n",
        "Create a new secret named `kaggle.json` in Google Colab, copy the contents of the downloaded file into the value field. Enable Notebook access, and you are ready to go.\n",
        "\n",
        "\n",
        "\n"
      ],
      "metadata": {
        "id": "zTJrcCsY3KZQ"
      }
    },
    {
      "cell_type": "code",
      "source": [
        "from google.colab import userdata\n",
        "import json, os\n",
        "kaggle_path = '/root/.config/kaggle'\n",
        "kaggle_json = userdata.get('kaggle.json')\n",
        "os.makedirs(kaggle_path, exist_ok=True)\n",
        "\n",
        "with open(kaggle_path + '/kaggle.json', 'w') as f:\n",
        "    f.write(kaggle_json)\n",
        "\n",
        "os.chmod(kaggle_path + '/kaggle.json', 0o600)"
      ],
      "metadata": {
        "id": "pKmqDWb_9-sn"
      },
      "execution_count": 19,
      "outputs": []
    },
    {
      "cell_type": "code",
      "execution_count": 22,
      "metadata": {
        "colab": {
          "base_uri": "https://localhost:8080/"
        },
        "id": "cV9NGd3D2-iY",
        "outputId": "1a8b9b7c-ea55-4e6c-dab5-166d084260c2"
      },
      "outputs": [
        {
          "output_type": "stream",
          "name": "stdout",
          "text": [
            "Requirement already satisfied: kaggle in /usr/local/lib/python3.10/dist-packages (1.6.17)\n",
            "Requirement already satisfied: six>=1.10 in /usr/local/lib/python3.10/dist-packages (from kaggle) (1.16.0)\n",
            "Requirement already satisfied: certifi>=2023.7.22 in /usr/local/lib/python3.10/dist-packages (from kaggle) (2024.8.30)\n",
            "Requirement already satisfied: python-dateutil in /usr/local/lib/python3.10/dist-packages (from kaggle) (2.8.2)\n",
            "Requirement already satisfied: requests in /usr/local/lib/python3.10/dist-packages (from kaggle) (2.32.3)\n",
            "Requirement already satisfied: tqdm in /usr/local/lib/python3.10/dist-packages (from kaggle) (4.66.5)\n",
            "Requirement already satisfied: python-slugify in /usr/local/lib/python3.10/dist-packages (from kaggle) (8.0.4)\n",
            "Requirement already satisfied: urllib3 in /usr/local/lib/python3.10/dist-packages (from kaggle) (2.2.3)\n",
            "Requirement already satisfied: bleach in /usr/local/lib/python3.10/dist-packages (from kaggle) (6.1.0)\n",
            "Requirement already satisfied: webencodings in /usr/local/lib/python3.10/dist-packages (from bleach->kaggle) (0.5.1)\n",
            "Requirement already satisfied: text-unidecode>=1.3 in /usr/local/lib/python3.10/dist-packages (from python-slugify->kaggle) (1.3)\n",
            "Requirement already satisfied: charset-normalizer<4,>=2 in /usr/local/lib/python3.10/dist-packages (from requests->kaggle) (3.4.0)\n",
            "Requirement already satisfied: idna<4,>=2.5 in /usr/local/lib/python3.10/dist-packages (from requests->kaggle) (3.10)\n",
            "Archive:  nlp-getting-started.zip\n",
            "replace sample_submission.csv? [y]es, [n]o, [A]ll, [N]one, [r]ename: N\n"
          ]
        }
      ],
      "source": [
        "!pip install kaggle\n",
        "!kaggle competitions download -c nlp-getting-started -q\n",
        "!unzip nlp-getting-started.zip"
      ]
    },
    {
      "cell_type": "markdown",
      "source": [
        "# TODO\n"
      ],
      "metadata": {
        "id": "9I289WAIDwVo"
      }
    },
    {
      "cell_type": "code",
      "source": [
        "import pandas as pd\n",
        "# Load DataFrames\n",
        "train_df = pd.read_csv('train.csv')\n",
        "test_df = pd.read_csv('test.csv')\n",
        "\n",
        "print(train_df.shape)\n",
        "print(test_df.shape)\n",
        "print(train_df.iloc[40])"
      ],
      "metadata": {
        "colab": {
          "base_uri": "https://localhost:8080/"
        },
        "id": "O7IBEj_gDzON",
        "outputId": "3c8e6dd3-a2c2-47d0-d723-f2c5e69489de"
      },
      "execution_count": 29,
      "outputs": [
        {
          "output_type": "stream",
          "name": "stdout",
          "text": [
            "(7613, 5)\n",
            "(3263, 4)\n",
            "id                                                         59\n",
            "keyword                                                ablaze\n",
            "location                                       Live On Webcam\n",
            "text        Check these out: http://t.co/rOI2NSmEJJ http:/...\n",
            "target                                                      0\n",
            "Name: 40, dtype: object\n"
          ]
        }
      ]
    }
  ]
}